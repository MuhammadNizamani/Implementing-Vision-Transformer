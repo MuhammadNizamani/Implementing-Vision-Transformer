{
 "cells": [
  {
   "cell_type": "code",
   "execution_count": 1,
   "metadata": {},
   "outputs": [
    {
     "name": "stdout",
     "output_type": "stream",
     "text": [
      "Collecting gymnasium==0.27.0"
     ]
    },
    {
     "name": "stderr",
     "output_type": "stream",
     "text": [
      "WARNING: Ignoring invalid distribution -illow (e:\\anaconda\\lib\\site-packages)\n",
      "WARNING: Ignoring invalid distribution -illow (e:\\anaconda\\lib\\site-packages)\n",
      "WARNING: Ignoring invalid distribution -illow (e:\\anaconda\\lib\\site-packages)\n",
      "    WARNING: Ignoring invalid distribution -illow (e:\\anaconda\\lib\\site-packages)\n",
      "WARNING: Ignoring invalid distribution -illow (e:\\anaconda\\lib\\site-packages)\n",
      "WARNING: Ignoring invalid distribution -illow (e:\\anaconda\\lib\\site-packages)\n",
      "WARNING: Ignoring invalid distribution -illow (e:\\anaconda\\lib\\site-packages)\n",
      "WARNING: Ignoring invalid distribution -illow (e:\\anaconda\\lib\\site-packages)\n",
      "WARNING: Ignoring invalid distribution -illow (e:\\anaconda\\lib\\site-packages)\n",
      "ERROR: pip's dependency resolver does not currently take into account all the packages that are installed. This behaviour is the source of the following dependency conflicts.\n",
      "tensorflow 2.7.0 requires keras<2.8,>=2.7.0rc0, but you have keras 2.11.0 which is incompatible.\n",
      "lightautoml 0.2.16.2 requires torch<1.9, but you have torch 1.9.0 which is incompatible.\n",
      "kerassurgeon 0.2.0 requires importlib-metadata<2.0.0,>=1.7.0, but you have importlib-metadata 4.11.3 which is incompatible.\n",
      "kerassurgeon 0.2.0 requires pillow[examples]<8.0.0,>=7.2.0, but you have pillow 8.4.0 which is incompatible.\n",
      "huggingface-hub 0.0.12 requires packaging>=20.9, but you have packaging 20.4 which is incompatible.\n",
      "WARNING: Ignoring invalid distribution -illow (e:\\anaconda\\lib\\site-packages)\n",
      "WARNING: You are using pip version 21.3.1; however, version 23.0.1 is available.\n",
      "You should consider upgrading via the 'E:\\anaconda\\python.exe -m pip install --upgrade pip' command.\n"
     ]
    },
    {
     "name": "stdout",
     "output_type": "stream",
     "text": [
      "\n",
      "  Downloading gymnasium-0.27.0-py3-none-any.whl (879 kB)\n",
      "Collecting shimmy<1.0,>=0.1.0\n",
      "  Downloading Shimmy-0.2.1-py3-none-any.whl (25 kB)\n",
      "Requirement already satisfied: importlib-metadata>=4.8.0 in e:\\anaconda\\lib\\site-packages (from gymnasium==0.27.0) (4.11.3)\n",
      "Collecting gymnasium-notices>=0.0.1\n",
      "  Downloading gymnasium_notices-0.0.1-py3-none-any.whl (2.8 kB)\n",
      "Collecting jax-jumpy>=0.2.0\n",
      "  Downloading jax_jumpy-1.0.0-py3-none-any.whl (20 kB)\n",
      "Requirement already satisfied: cloudpickle>=1.2.0 in e:\\anaconda\\lib\\site-packages (from gymnasium==0.27.0) (1.6.0)\n",
      "Requirement already satisfied: numpy>=1.21.0 in e:\\anaconda\\lib\\site-packages (from gymnasium==0.27.0) (1.24.2)\n",
      "Collecting typing-extensions>=4.3.0\n",
      "  Using cached typing_extensions-4.5.0-py3-none-any.whl (27 kB)\n",
      "Requirement already satisfied: zipp>=0.5 in e:\\anaconda\\lib\\site-packages (from importlib-metadata>=4.8.0->gymnasium==0.27.0) (3.4.0)\n",
      "Installing collected packages: typing-extensions, shimmy, jax-jumpy, gymnasium-notices, gymnasium\n",
      "  Attempting uninstall: typing-extensions\n",
      "    Found existing installation: typing-extensions 4.2.0\n",
      "    Uninstalling typing-extensions-4.2.0:\n",
      "      Successfully uninstalled typing-extensions-4.2.0\n",
      "Successfully installed gymnasium-0.27.0 gymnasium-notices-0.0.1 jax-jumpy-1.0.0 shimmy-0.2.1 typing-extensions-4.5.0\n"
     ]
    }
   ],
   "source": [
    "!pip install gymnasium==0.27.0"
   ]
  },
  {
   "cell_type": "code",
   "execution_count": null,
   "metadata": {},
   "outputs": [],
   "source": [
    "from collections import defaultdict\n",
    "\n",
    "import matplotlib.pyplot as plt\n",
    "import numpy as np\n",
    "import seaborn as sns\n",
    "from matplotlib.patches import Patch\n",
    "from tqdm import tqdm\n",
    "\n",
    "import gymnasium as gym"
   ]
  },
  {
   "cell_type": "code",
   "execution_count": null,
   "metadata": {},
   "outputs": [],
   "source": []
  }
 ],
 "metadata": {
  "kernelspec": {
   "display_name": "Python 3",
   "language": "python",
   "name": "python3"
  },
  "language_info": {
   "codemirror_mode": {
    "name": "ipython",
    "version": 3
   },
   "file_extension": ".py",
   "mimetype": "text/x-python",
   "name": "python",
   "nbconvert_exporter": "python",
   "pygments_lexer": "ipython3",
   "version": "3.8.5"
  }
 },
 "nbformat": 4,
 "nbformat_minor": 4
}
